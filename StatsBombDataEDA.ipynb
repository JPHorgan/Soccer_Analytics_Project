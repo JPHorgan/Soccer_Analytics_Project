{
 "cells": [
  {
   "cell_type": "code",
   "execution_count": 1,
   "id": "ea595feb",
   "metadata": {},
   "outputs": [],
   "source": [
    "#Libraries\n",
    "import numpy as np\n",
    "import pandas as pd\n",
    "import matplotlib.pyplot as plt"
   ]
  },
  {
   "cell_type": "code",
   "execution_count": 2,
   "id": "7e407e18",
   "metadata": {},
   "outputs": [],
   "source": [
    "# Load Data Frames From Local Machine \n"
   ]
  },
  {
   "cell_type": "markdown",
   "id": "c4e3f327",
   "metadata": {},
   "source": [
    "# Exploring the Data Frames"
   ]
  },
  {
   "cell_type": "markdown",
   "id": "ee682adf",
   "metadata": {},
   "source": [
    "### Competition df"
   ]
  },
  {
   "cell_type": "code",
   "execution_count": 3,
   "id": "63667839",
   "metadata": {},
   "outputs": [
    {
     "data": {
      "text/html": [
       "<div>\n",
       "<style scoped>\n",
       "    .dataframe tbody tr th:only-of-type {\n",
       "        vertical-align: middle;\n",
       "    }\n",
       "\n",
       "    .dataframe tbody tr th {\n",
       "        vertical-align: top;\n",
       "    }\n",
       "\n",
       "    .dataframe thead th {\n",
       "        text-align: right;\n",
       "    }\n",
       "</style>\n",
       "<table border=\"1\" class=\"dataframe\">\n",
       "  <thead>\n",
       "    <tr style=\"text-align: right;\">\n",
       "      <th></th>\n",
       "      <th>competition_id</th>\n",
       "      <th>competition_name</th>\n",
       "      <th>competition_gender</th>\n",
       "    </tr>\n",
       "  </thead>\n",
       "  <tbody>\n",
       "    <tr>\n",
       "      <th>0</th>\n",
       "      <td>2</td>\n",
       "      <td>Premier League</td>\n",
       "      <td>male</td>\n",
       "    </tr>\n",
       "    <tr>\n",
       "      <th>1</th>\n",
       "      <td>11</td>\n",
       "      <td>La Liga</td>\n",
       "      <td>male</td>\n",
       "    </tr>\n",
       "    <tr>\n",
       "      <th>2</th>\n",
       "      <td>16</td>\n",
       "      <td>Champions League</td>\n",
       "      <td>male</td>\n",
       "    </tr>\n",
       "    <tr>\n",
       "      <th>3</th>\n",
       "      <td>37</td>\n",
       "      <td>FA Women's Super League</td>\n",
       "      <td>female</td>\n",
       "    </tr>\n",
       "    <tr>\n",
       "      <th>4</th>\n",
       "      <td>43</td>\n",
       "      <td>FIFA World Cup</td>\n",
       "      <td>male</td>\n",
       "    </tr>\n",
       "    <tr>\n",
       "      <th>5</th>\n",
       "      <td>49</td>\n",
       "      <td>NWSL</td>\n",
       "      <td>female</td>\n",
       "    </tr>\n",
       "    <tr>\n",
       "      <th>6</th>\n",
       "      <td>72</td>\n",
       "      <td>Women's World Cup</td>\n",
       "      <td>female</td>\n",
       "    </tr>\n",
       "  </tbody>\n",
       "</table>\n",
       "</div>"
      ],
      "text/plain": [
       "   competition_id         competition_name competition_gender\n",
       "0               2           Premier League               male\n",
       "1              11                  La Liga               male\n",
       "2              16         Champions League               male\n",
       "3              37  FA Women's Super League             female\n",
       "4              43           FIFA World Cup               male\n",
       "5              49                     NWSL             female\n",
       "6              72        Women's World Cup             female"
      ]
     },
     "execution_count": 3,
     "metadata": {},
     "output_type": "execute_result"
    }
   ],
   "source": [
    "competition"
   ]
  },
  {
   "cell_type": "markdown",
   "id": "d6f114f5",
   "metadata": {},
   "source": [
    "### Season df"
   ]
  },
  {
   "cell_type": "code",
   "execution_count": 4,
   "id": "e0a473da",
   "metadata": {},
   "outputs": [
    {
     "data": {
      "text/html": [
       "<div>\n",
       "<style scoped>\n",
       "    .dataframe tbody tr th:only-of-type {\n",
       "        vertical-align: middle;\n",
       "    }\n",
       "\n",
       "    .dataframe tbody tr th {\n",
       "        vertical-align: top;\n",
       "    }\n",
       "\n",
       "    .dataframe thead th {\n",
       "        text-align: right;\n",
       "    }\n",
       "</style>\n",
       "<table border=\"1\" class=\"dataframe\">\n",
       "  <thead>\n",
       "    <tr style=\"text-align: right;\">\n",
       "      <th></th>\n",
       "      <th>season_id</th>\n",
       "      <th>season_name</th>\n",
       "    </tr>\n",
       "  </thead>\n",
       "  <tbody>\n",
       "    <tr>\n",
       "      <th>0</th>\n",
       "      <td>44</td>\n",
       "      <td>2003/2004</td>\n",
       "    </tr>\n",
       "    <tr>\n",
       "      <th>1</th>\n",
       "      <td>1</td>\n",
       "      <td>2017/2018</td>\n",
       "    </tr>\n",
       "    <tr>\n",
       "      <th>2</th>\n",
       "      <td>2</td>\n",
       "      <td>2016/2017</td>\n",
       "    </tr>\n",
       "    <tr>\n",
       "      <th>3</th>\n",
       "      <td>4</td>\n",
       "      <td>2018/2019</td>\n",
       "    </tr>\n",
       "    <tr>\n",
       "      <th>4</th>\n",
       "      <td>21</td>\n",
       "      <td>2009/2010</td>\n",
       "    </tr>\n",
       "  </tbody>\n",
       "</table>\n",
       "</div>"
      ],
      "text/plain": [
       "   season_id season_name\n",
       "0         44   2003/2004\n",
       "1          1   2017/2018\n",
       "2          2   2016/2017\n",
       "3          4   2018/2019\n",
       "4         21   2009/2010"
      ]
     },
     "execution_count": 4,
     "metadata": {},
     "output_type": "execute_result"
    }
   ],
   "source": [
    "season.head()"
   ]
  },
  {
   "cell_type": "code",
   "execution_count": 5,
   "id": "e85ac5e9",
   "metadata": {},
   "outputs": [
    {
     "data": {
      "text/plain": [
       "(20, 2)"
      ]
     },
     "execution_count": 5,
     "metadata": {},
     "output_type": "execute_result"
    }
   ],
   "source": [
    "season.shape"
   ]
  },
  {
   "cell_type": "markdown",
   "id": "68c37579",
   "metadata": {},
   "source": [
    "### Match df"
   ]
  },
  {
   "cell_type": "code",
   "execution_count": 6,
   "id": "fdae7d60",
   "metadata": {},
   "outputs": [
    {
     "data": {
      "text/html": [
       "<div>\n",
       "<style scoped>\n",
       "    .dataframe tbody tr th:only-of-type {\n",
       "        vertical-align: middle;\n",
       "    }\n",
       "\n",
       "    .dataframe tbody tr th {\n",
       "        vertical-align: top;\n",
       "    }\n",
       "\n",
       "    .dataframe thead th {\n",
       "        text-align: right;\n",
       "    }\n",
       "</style>\n",
       "<table border=\"1\" class=\"dataframe\">\n",
       "  <thead>\n",
       "    <tr style=\"text-align: right;\">\n",
       "      <th></th>\n",
       "      <th>match_id</th>\n",
       "      <th>match_date</th>\n",
       "      <th>kick_off</th>\n",
       "      <th>home_score</th>\n",
       "      <th>away_score</th>\n",
       "      <th>match_status_360</th>\n",
       "      <th>last_updated</th>\n",
       "      <th>last_updated_360</th>\n",
       "      <th>match_week</th>\n",
       "      <th>competition_id</th>\n",
       "      <th>...</th>\n",
       "      <th>home_team_managers_dob</th>\n",
       "      <th>home_team_managers_country_id</th>\n",
       "      <th>home_team_managers_country_name</th>\n",
       "      <th>away_team_managers_id</th>\n",
       "      <th>away_team_managers_name</th>\n",
       "      <th>away_team_managers_nickname</th>\n",
       "      <th>away_team_managers_dob</th>\n",
       "      <th>away_team_managers_country_id</th>\n",
       "      <th>away_team_managers_country_name</th>\n",
       "      <th>metadata_xy_fidelity_version</th>\n",
       "    </tr>\n",
       "  </thead>\n",
       "  <tbody>\n",
       "    <tr>\n",
       "      <th>0</th>\n",
       "      <td>9575</td>\n",
       "      <td>2017-08-20</td>\n",
       "      <td>2017-08-20 20:15:00</td>\n",
       "      <td>2</td>\n",
       "      <td>0</td>\n",
       "      <td>unscheduled</td>\n",
       "      <td>2020-07-29 05:00:00</td>\n",
       "      <td>NaN</td>\n",
       "      <td>1</td>\n",
       "      <td>11</td>\n",
       "      <td>...</td>\n",
       "      <td>NaT</td>\n",
       "      <td>214.0</td>\n",
       "      <td>Spain</td>\n",
       "      <td>238.0</td>\n",
       "      <td>Enrique Setién Solar</td>\n",
       "      <td>Quique Setién</td>\n",
       "      <td>NaT</td>\n",
       "      <td>214.0</td>\n",
       "      <td>Spain</td>\n",
       "      <td>None</td>\n",
       "    </tr>\n",
       "    <tr>\n",
       "      <th>1</th>\n",
       "      <td>9581</td>\n",
       "      <td>2017-08-26</td>\n",
       "      <td>2017-08-26 18:15:00</td>\n",
       "      <td>0</td>\n",
       "      <td>2</td>\n",
       "      <td>unscheduled</td>\n",
       "      <td>2020-07-29 05:00:00</td>\n",
       "      <td>NaN</td>\n",
       "      <td>2</td>\n",
       "      <td>11</td>\n",
       "      <td>...</td>\n",
       "      <td>NaT</td>\n",
       "      <td>11.0</td>\n",
       "      <td>Argentina</td>\n",
       "      <td>227.0</td>\n",
       "      <td>Ernesto Valverde Tejedor</td>\n",
       "      <td>Ernesto Valverde</td>\n",
       "      <td>NaT</td>\n",
       "      <td>214.0</td>\n",
       "      <td>Spain</td>\n",
       "      <td>None</td>\n",
       "    </tr>\n",
       "    <tr>\n",
       "      <th>2</th>\n",
       "      <td>9592</td>\n",
       "      <td>2017-09-09</td>\n",
       "      <td>2017-09-09 20:45:00</td>\n",
       "      <td>5</td>\n",
       "      <td>0</td>\n",
       "      <td>unscheduled</td>\n",
       "      <td>2020-07-29 05:00:00</td>\n",
       "      <td>NaN</td>\n",
       "      <td>3</td>\n",
       "      <td>11</td>\n",
       "      <td>...</td>\n",
       "      <td>NaT</td>\n",
       "      <td>214.0</td>\n",
       "      <td>Spain</td>\n",
       "      <td>236.0</td>\n",
       "      <td>Enrique  Sánchez Flores</td>\n",
       "      <td>Quique Sánchez Flores</td>\n",
       "      <td>NaT</td>\n",
       "      <td>214.0</td>\n",
       "      <td>Spain</td>\n",
       "      <td>None</td>\n",
       "    </tr>\n",
       "    <tr>\n",
       "      <th>3</th>\n",
       "      <td>9602</td>\n",
       "      <td>2017-09-16</td>\n",
       "      <td>2017-09-16 16:15:00</td>\n",
       "      <td>1</td>\n",
       "      <td>2</td>\n",
       "      <td>unscheduled</td>\n",
       "      <td>2020-07-29 05:00:00</td>\n",
       "      <td>NaN</td>\n",
       "      <td>4</td>\n",
       "      <td>11</td>\n",
       "      <td>...</td>\n",
       "      <td>NaT</td>\n",
       "      <td>214.0</td>\n",
       "      <td>Spain</td>\n",
       "      <td>227.0</td>\n",
       "      <td>Ernesto Valverde Tejedor</td>\n",
       "      <td>Ernesto Valverde</td>\n",
       "      <td>NaT</td>\n",
       "      <td>214.0</td>\n",
       "      <td>Spain</td>\n",
       "      <td>None</td>\n",
       "    </tr>\n",
       "    <tr>\n",
       "      <th>4</th>\n",
       "      <td>9609</td>\n",
       "      <td>2017-09-19</td>\n",
       "      <td>2017-09-19 22:00:00</td>\n",
       "      <td>6</td>\n",
       "      <td>1</td>\n",
       "      <td>unscheduled</td>\n",
       "      <td>2020-07-29 05:00:00</td>\n",
       "      <td>NaN</td>\n",
       "      <td>5</td>\n",
       "      <td>11</td>\n",
       "      <td>...</td>\n",
       "      <td>NaT</td>\n",
       "      <td>214.0</td>\n",
       "      <td>Spain</td>\n",
       "      <td>221.0</td>\n",
       "      <td>José Luis Mendilibar Etxebarria</td>\n",
       "      <td>José Luis Mendilibar</td>\n",
       "      <td>NaT</td>\n",
       "      <td>214.0</td>\n",
       "      <td>Spain</td>\n",
       "      <td>None</td>\n",
       "    </tr>\n",
       "  </tbody>\n",
       "</table>\n",
       "<p>5 rows × 50 columns</p>\n",
       "</div>"
      ],
      "text/plain": [
       "   match_id match_date            kick_off  home_score  away_score  \\\n",
       "0      9575 2017-08-20 2017-08-20 20:15:00           2           0   \n",
       "1      9581 2017-08-26 2017-08-26 18:15:00           0           2   \n",
       "2      9592 2017-09-09 2017-09-09 20:45:00           5           0   \n",
       "3      9602 2017-09-16 2017-09-16 16:15:00           1           2   \n",
       "4      9609 2017-09-19 2017-09-19 22:00:00           6           1   \n",
       "\n",
       "  match_status_360        last_updated  last_updated_360  match_week  \\\n",
       "0      unscheduled 2020-07-29 05:00:00               NaN           1   \n",
       "1      unscheduled 2020-07-29 05:00:00               NaN           2   \n",
       "2      unscheduled 2020-07-29 05:00:00               NaN           3   \n",
       "3      unscheduled 2020-07-29 05:00:00               NaN           4   \n",
       "4      unscheduled 2020-07-29 05:00:00               NaN           5   \n",
       "\n",
       "   competition_id  ... home_team_managers_dob home_team_managers_country_id  \\\n",
       "0              11  ...                    NaT                         214.0   \n",
       "1              11  ...                    NaT                          11.0   \n",
       "2              11  ...                    NaT                         214.0   \n",
       "3              11  ...                    NaT                         214.0   \n",
       "4              11  ...                    NaT                         214.0   \n",
       "\n",
       "   home_team_managers_country_name away_team_managers_id  \\\n",
       "0                            Spain                 238.0   \n",
       "1                        Argentina                 227.0   \n",
       "2                            Spain                 236.0   \n",
       "3                            Spain                 227.0   \n",
       "4                            Spain                 221.0   \n",
       "\n",
       "           away_team_managers_name away_team_managers_nickname  \\\n",
       "0             Enrique Setién Solar               Quique Setién   \n",
       "1         Ernesto Valverde Tejedor            Ernesto Valverde   \n",
       "2          Enrique  Sánchez Flores       Quique Sánchez Flores   \n",
       "3         Ernesto Valverde Tejedor            Ernesto Valverde   \n",
       "4  José Luis Mendilibar Etxebarria        José Luis Mendilibar   \n",
       "\n",
       "  away_team_managers_dob away_team_managers_country_id  \\\n",
       "0                    NaT                         214.0   \n",
       "1                    NaT                         214.0   \n",
       "2                    NaT                         214.0   \n",
       "3                    NaT                         214.0   \n",
       "4                    NaT                         214.0   \n",
       "\n",
       "   away_team_managers_country_name metadata_xy_fidelity_version  \n",
       "0                            Spain                         None  \n",
       "1                            Spain                         None  \n",
       "2                            Spain                         None  \n",
       "3                            Spain                         None  \n",
       "4                            Spain                         None  \n",
       "\n",
       "[5 rows x 50 columns]"
      ]
     },
     "execution_count": 6,
     "metadata": {},
     "output_type": "execute_result"
    }
   ],
   "source": [
    "match.head()"
   ]
  },
  {
   "cell_type": "code",
   "execution_count": 7,
   "id": "363aa318",
   "metadata": {},
   "outputs": [
    {
     "data": {
      "text/plain": [
       "(879, 50)"
      ]
     },
     "execution_count": 7,
     "metadata": {},
     "output_type": "execute_result"
    }
   ],
   "source": [
    "#Check number of matches in the Data Set \n",
    "match.shape"
   ]
  },
  {
   "cell_type": "code",
   "execution_count": 8,
   "id": "f07d5bef",
   "metadata": {},
   "outputs": [
    {
     "data": {
      "text/plain": [
       "Index(['match_id', 'match_date', 'kick_off', 'home_score', 'away_score',\n",
       "       'match_status_360', 'last_updated', 'last_updated_360', 'match_week',\n",
       "       'competition_id', 'competition_country_name', 'competition_name',\n",
       "       'season_id', 'season_name', 'home_team_id', 'home_team_name',\n",
       "       'competition_gender', 'home_team_group', 'home_team_country_id',\n",
       "       'home_team_country_name', 'away_team_id', 'away_team_name',\n",
       "       'away_team_group', 'away_team_country_id', 'away_team_country_name',\n",
       "       'metadata_data_version', 'metadata_shot_fidelity_version',\n",
       "       'competition_stage_id', 'competition_stage_name', 'stadium_id',\n",
       "       'stadium_name', 'stadium_country_id', 'stadium_country_name',\n",
       "       'referee_id', 'referee_name', 'referee_country_id',\n",
       "       'referee_country_name', 'home_team_managers_id',\n",
       "       'home_team_managers_name', 'home_team_managers_nickname',\n",
       "       'home_team_managers_dob', 'home_team_managers_country_id',\n",
       "       'home_team_managers_country_name', 'away_team_managers_id',\n",
       "       'away_team_managers_name', 'away_team_managers_nickname',\n",
       "       'away_team_managers_dob', 'away_team_managers_country_id',\n",
       "       'away_team_managers_country_name', 'metadata_xy_fidelity_version'],\n",
       "      dtype='object')"
      ]
     },
     "execution_count": 8,
     "metadata": {},
     "output_type": "execute_result"
    }
   ],
   "source": [
    "match.columns"
   ]
  },
  {
   "cell_type": "code",
   "execution_count": 9,
   "id": "02847753",
   "metadata": {},
   "outputs": [
    {
     "data": {
      "text/plain": [
       "Text(0, 0.5, 'Competition Name')"
      ]
     },
     "execution_count": 9,
     "metadata": {},
     "output_type": "execute_result"
    },
    {
     "data": {
      "image/png": "[encoded data removed]",
      "text/plain": [
       "<Figure size 432x288 with 1 Axes>"
      ]
     },
     "metadata": {
      "needs_background": "light"
     },
     "output_type": "display_data"
    }
   ],
   "source": [
    "#Look at the distribution of matches in each season\n",
    "plt.hist(match.competition_name,orientation='horizontal')\n",
    "plt.xlabel('Number of Matches')\n",
    "plt.ylabel('Competition Name')"
   ]
  },
  {
   "cell_type": "code",
   "execution_count": 10,
   "id": "b125099b",
   "metadata": {},
   "outputs": [
    {
     "data": {
      "text/plain": [
       "La Liga                    0.551763\n",
       "FA Women's Super League    0.221843\n",
       "FIFA World Cup             0.072810\n",
       "Women's World Cup          0.059158\n",
       "NWSL                       0.040956\n",
       "Premier League             0.037543\n",
       "Champions League           0.015927\n",
       "Name: competition_name, dtype: float64"
      ]
     },
     "execution_count": 10,
     "metadata": {},
     "output_type": "execute_result"
    }
   ],
   "source": [
    "# percentage games for each Competiton\n",
    "match.competition_name.value_counts(normalize=True)"
   ]
  },
  {
   "cell_type": "code",
   "execution_count": 11,
   "id": "6b365cb1",
   "metadata": {},
   "outputs": [
    {
     "data": {
      "text/plain": [
       "Text(0, 0.5, 'Season Name')"
      ]
     },
     "execution_count": 11,
     "metadata": {},
     "output_type": "execute_result"
    },
    {
     "data": {
      "image/png": "[encoded data removed]",
      "text/plain": [
       "<Figure size 432x288 with 1 Axes>"
      ]
     },
     "metadata": {
      "needs_background": "light"
     },
     "output_type": "display_data"
    }
   ],
   "source": [
    "# Plot number of La Liga games per season\n",
    "df_ll = match[match['competition_id'] == 11]\n",
    "df_ll = df_ll.sort_values(by=['season_name'])\n",
    "plt.hist(df_ll.season_name,bins=df_ll.season_name.nunique(),orientation='horizontal')\n",
    "plt.xlabel('Number of La Liga Games')\n",
    "plt.ylabel('Season Name')"
   ]
  },
  {
   "cell_type": "code",
   "execution_count": 12,
   "id": "4f73c6cf",
   "metadata": {
    "scrolled": false
   },
   "outputs": [
    {
     "data": {
      "text/html": [
       "<div>\n",
       "<style scoped>\n",
       "    .dataframe tbody tr th:only-of-type {\n",
       "        vertical-align: middle;\n",
       "    }\n",
       "\n",
       "    .dataframe tbody tr th {\n",
       "        vertical-align: top;\n",
       "    }\n",
       "\n",
       "    .dataframe thead th {\n",
       "        text-align: right;\n",
       "    }\n",
       "</style>\n",
       "<table border=\"1\" class=\"dataframe\">\n",
       "  <thead>\n",
       "    <tr style=\"text-align: right;\">\n",
       "      <th></th>\n",
       "      <th>count_games_played</th>\n",
       "      <th>percentage_games</th>\n",
       "    </tr>\n",
       "  </thead>\n",
       "  <tbody>\n",
       "    <tr>\n",
       "      <th>Barcelona</th>\n",
       "      <td>488</td>\n",
       "      <td>0.555176</td>\n",
       "    </tr>\n",
       "    <tr>\n",
       "      <th>Manchester City WFC</th>\n",
       "      <td>37</td>\n",
       "      <td>0.042093</td>\n",
       "    </tr>\n",
       "    <tr>\n",
       "      <th>Arsenal WFC</th>\n",
       "      <td>35</td>\n",
       "      <td>0.039818</td>\n",
       "    </tr>\n",
       "    <tr>\n",
       "      <th>Brighton &amp; Hove Albion WFC</th>\n",
       "      <td>35</td>\n",
       "      <td>0.039818</td>\n",
       "    </tr>\n",
       "    <tr>\n",
       "      <th>Reading WFC</th>\n",
       "      <td>34</td>\n",
       "      <td>0.038680</td>\n",
       "    </tr>\n",
       "    <tr>\n",
       "      <th>...</th>\n",
       "      <td>...</td>\n",
       "      <td>...</td>\n",
       "    </tr>\n",
       "    <tr>\n",
       "      <th>Huesca</th>\n",
       "      <td>1</td>\n",
       "      <td>0.001138</td>\n",
       "    </tr>\n",
       "    <tr>\n",
       "      <th>Inter Milan</th>\n",
       "      <td>1</td>\n",
       "      <td>0.001138</td>\n",
       "    </tr>\n",
       "    <tr>\n",
       "      <th>Everton</th>\n",
       "      <td>1</td>\n",
       "      <td>0.001138</td>\n",
       "    </tr>\n",
       "    <tr>\n",
       "      <th>Portsmouth</th>\n",
       "      <td>1</td>\n",
       "      <td>0.001138</td>\n",
       "    </tr>\n",
       "    <tr>\n",
       "      <th>FC Porto</th>\n",
       "      <td>1</td>\n",
       "      <td>0.001138</td>\n",
       "    </tr>\n",
       "  </tbody>\n",
       "</table>\n",
       "<p>145 rows × 2 columns</p>\n",
       "</div>"
      ],
      "text/plain": [
       "                            count_games_played  percentage_games\n",
       "Barcelona                                  488          0.555176\n",
       "Manchester City WFC                         37          0.042093\n",
       "Arsenal WFC                                 35          0.039818\n",
       "Brighton & Hove Albion WFC                  35          0.039818\n",
       "Reading WFC                                 34          0.038680\n",
       "...                                        ...               ...\n",
       "Huesca                                       1          0.001138\n",
       "Inter Milan                                  1          0.001138\n",
       "Everton                                      1          0.001138\n",
       "Portsmouth                                   1          0.001138\n",
       "FC Porto                                     1          0.001138\n",
       "\n",
       "[145 rows x 2 columns]"
      ]
     },
     "execution_count": 12,
     "metadata": {},
     "output_type": "execute_result"
    }
   ],
   "source": [
    "df = pd.concat([match.away_team_name, match.home_team_name]).to_frame()\n",
    "df['count_games_played'] = df[0]\n",
    "df_g = df.count_games_played.value_counts().to_frame()\n",
    "df_g['percentage_games'] =df_g['count_games_played'] /len(match)\n",
    "df_g"
   ]
  },
  {
   "cell_type": "markdown",
   "id": "93a0c678",
   "metadata": {},
   "source": [
    "### Line Up df"
   ]
  },
  {
   "cell_type": "code",
   "execution_count": 13,
   "id": "10f14638",
   "metadata": {
    "scrolled": true
   },
   "outputs": [
    {
     "data": {
      "text/html": [
       "<div>\n",
       "<style scoped>\n",
       "    .dataframe tbody tr th:only-of-type {\n",
       "        vertical-align: middle;\n",
       "    }\n",
       "\n",
       "    .dataframe tbody tr th {\n",
       "        vertical-align: top;\n",
       "    }\n",
       "\n",
       "    .dataframe thead th {\n",
       "        text-align: right;\n",
       "    }\n",
       "</style>\n",
       "<table border=\"1\" class=\"dataframe\">\n",
       "  <thead>\n",
       "    <tr style=\"text-align: right;\">\n",
       "      <th></th>\n",
       "      <th>team_id</th>\n",
       "      <th>team_name</th>\n",
       "      <th>match_id</th>\n",
       "      <th>player_id</th>\n",
       "      <th>player_name</th>\n",
       "      <th>player_nickname</th>\n",
       "      <th>player_jersey_number</th>\n",
       "      <th>player_country_id</th>\n",
       "      <th>player_country_name</th>\n",
       "    </tr>\n",
       "  </thead>\n",
       "  <tbody>\n",
       "    <tr>\n",
       "      <th>0</th>\n",
       "      <td>217</td>\n",
       "      <td>Barcelona</td>\n",
       "      <td>15946</td>\n",
       "      <td>3109</td>\n",
       "      <td>Malcom Filipe Silva de Oliveira</td>\n",
       "      <td>Malcom</td>\n",
       "      <td>14</td>\n",
       "      <td>31</td>\n",
       "      <td>Brazil</td>\n",
       "    </tr>\n",
       "    <tr>\n",
       "      <th>1</th>\n",
       "      <td>217</td>\n",
       "      <td>Barcelona</td>\n",
       "      <td>15946</td>\n",
       "      <td>3501</td>\n",
       "      <td>Philippe Coutinho Correia</td>\n",
       "      <td>Philippe Coutinho</td>\n",
       "      <td>7</td>\n",
       "      <td>31</td>\n",
       "      <td>Brazil</td>\n",
       "    </tr>\n",
       "    <tr>\n",
       "      <th>2</th>\n",
       "      <td>217</td>\n",
       "      <td>Barcelona</td>\n",
       "      <td>15946</td>\n",
       "      <td>5203</td>\n",
       "      <td>Sergio Busquets i Burgos</td>\n",
       "      <td>Sergio Busquets</td>\n",
       "      <td>5</td>\n",
       "      <td>214</td>\n",
       "      <td>Spain</td>\n",
       "    </tr>\n",
       "    <tr>\n",
       "      <th>3</th>\n",
       "      <td>217</td>\n",
       "      <td>Barcelona</td>\n",
       "      <td>15946</td>\n",
       "      <td>5211</td>\n",
       "      <td>Jordi Alba Ramos</td>\n",
       "      <td>Jordi Alba</td>\n",
       "      <td>18</td>\n",
       "      <td>214</td>\n",
       "      <td>Spain</td>\n",
       "    </tr>\n",
       "    <tr>\n",
       "      <th>4</th>\n",
       "      <td>217</td>\n",
       "      <td>Barcelona</td>\n",
       "      <td>15946</td>\n",
       "      <td>5213</td>\n",
       "      <td>Gerard Piqué Bernabéu</td>\n",
       "      <td>Gerard Piqué</td>\n",
       "      <td>3</td>\n",
       "      <td>214</td>\n",
       "      <td>Spain</td>\n",
       "    </tr>\n",
       "  </tbody>\n",
       "</table>\n",
       "</div>"
      ],
      "text/plain": [
       "   team_id  team_name  match_id  player_id                      player_name  \\\n",
       "0      217  Barcelona     15946       3109  Malcom Filipe Silva de Oliveira   \n",
       "1      217  Barcelona     15946       3501        Philippe Coutinho Correia   \n",
       "2      217  Barcelona     15946       5203         Sergio Busquets i Burgos   \n",
       "3      217  Barcelona     15946       5211                 Jordi Alba Ramos   \n",
       "4      217  Barcelona     15946       5213            Gerard Piqué Bernabéu   \n",
       "\n",
       "     player_nickname  player_jersey_number  player_country_id  \\\n",
       "0             Malcom                    14                 31   \n",
       "1  Philippe Coutinho                     7                 31   \n",
       "2    Sergio Busquets                     5                214   \n",
       "3         Jordi Alba                    18                214   \n",
       "4       Gerard Piqué                     3                214   \n",
       "\n",
       "  player_country_name  \n",
       "0              Brazil  \n",
       "1              Brazil  \n",
       "2               Spain  \n",
       "3               Spain  \n",
       "4               Spain  "
      ]
     },
     "execution_count": 13,
     "metadata": {},
     "output_type": "execute_result"
    }
   ],
   "source": [
    "lineup.head()"
   ]
  },
  {
   "cell_type": "code",
   "execution_count": 14,
   "id": "981e7701",
   "metadata": {
    "scrolled": true
   },
   "outputs": [
    {
     "data": {
      "text/plain": [
       "(26794, 9)"
      ]
     },
     "execution_count": 14,
     "metadata": {},
     "output_type": "execute_result"
    }
   ],
   "source": [
    "lineup.shape"
   ]
  },
  {
   "cell_type": "markdown",
   "id": "0e571b61",
   "metadata": {},
   "source": [
    "### Event df"
   ]
  },
  {
   "cell_type": "code",
   "execution_count": 15,
   "id": "ec9dcd2b",
   "metadata": {
    "scrolled": false
   },
   "outputs": [
    {
     "data": {
      "text/html": [
       "<div>\n",
       "<style scoped>\n",
       "    .dataframe tbody tr th:only-of-type {\n",
       "        vertical-align: middle;\n",
       "    }\n",
       "\n",
       "    .dataframe tbody tr th {\n",
       "        vertical-align: top;\n",
       "    }\n",
       "\n",
       "    .dataframe thead th {\n",
       "        text-align: right;\n",
       "    }\n",
       "</style>\n",
       "<table border=\"1\" class=\"dataframe\">\n",
       "  <thead>\n",
       "    <tr style=\"text-align: right;\">\n",
       "      <th></th>\n",
       "      <th>match_id</th>\n",
       "      <th>id</th>\n",
       "      <th>index</th>\n",
       "      <th>period</th>\n",
       "      <th>timestamp_minute</th>\n",
       "      <th>timestamp_second</th>\n",
       "      <th>timestamp_millisecond</th>\n",
       "      <th>minute</th>\n",
       "      <th>second</th>\n",
       "      <th>type_id</th>\n",
       "      <th>...</th>\n",
       "      <th>block_save_block</th>\n",
       "      <th>out</th>\n",
       "      <th>shot_open_goal</th>\n",
       "      <th>injury_stoppage_in_chain</th>\n",
       "      <th>shot_follows_dribble</th>\n",
       "      <th>pass_no_touch</th>\n",
       "      <th>dribble_no_touch</th>\n",
       "      <th>half_start_late_video_start</th>\n",
       "      <th>player_off_permanent</th>\n",
       "      <th>half_end_early_video_end</th>\n",
       "    </tr>\n",
       "  </thead>\n",
       "  <tbody>\n",
       "    <tr>\n",
       "      <th>0</th>\n",
       "      <td>15946</td>\n",
       "      <td>ce508a95-38d3-4248-a50e-dc8d7e23230c</td>\n",
       "      <td>1</td>\n",
       "      <td>1</td>\n",
       "      <td>0</td>\n",
       "      <td>0</td>\n",
       "      <td>0</td>\n",
       "      <td>0</td>\n",
       "      <td>0</td>\n",
       "      <td>35</td>\n",
       "      <td>...</td>\n",
       "      <td>None</td>\n",
       "      <td>NaN</td>\n",
       "      <td>None</td>\n",
       "      <td>None</td>\n",
       "      <td>None</td>\n",
       "      <td>None</td>\n",
       "      <td>None</td>\n",
       "      <td>None</td>\n",
       "      <td>None</td>\n",
       "      <td>None</td>\n",
       "    </tr>\n",
       "    <tr>\n",
       "      <th>1</th>\n",
       "      <td>15946</td>\n",
       "      <td>39abd1c2-2575-41be-ae79-3e936eead529</td>\n",
       "      <td>2</td>\n",
       "      <td>1</td>\n",
       "      <td>0</td>\n",
       "      <td>0</td>\n",
       "      <td>0</td>\n",
       "      <td>0</td>\n",
       "      <td>0</td>\n",
       "      <td>35</td>\n",
       "      <td>...</td>\n",
       "      <td>None</td>\n",
       "      <td>NaN</td>\n",
       "      <td>None</td>\n",
       "      <td>None</td>\n",
       "      <td>None</td>\n",
       "      <td>None</td>\n",
       "      <td>None</td>\n",
       "      <td>None</td>\n",
       "      <td>None</td>\n",
       "      <td>None</td>\n",
       "    </tr>\n",
       "    <tr>\n",
       "      <th>2</th>\n",
       "      <td>15946</td>\n",
       "      <td>1148e967-380f-421f-97f0-d0c820c72984</td>\n",
       "      <td>3</td>\n",
       "      <td>1</td>\n",
       "      <td>0</td>\n",
       "      <td>0</td>\n",
       "      <td>0</td>\n",
       "      <td>0</td>\n",
       "      <td>0</td>\n",
       "      <td>18</td>\n",
       "      <td>...</td>\n",
       "      <td>None</td>\n",
       "      <td>NaN</td>\n",
       "      <td>None</td>\n",
       "      <td>None</td>\n",
       "      <td>None</td>\n",
       "      <td>None</td>\n",
       "      <td>None</td>\n",
       "      <td>None</td>\n",
       "      <td>None</td>\n",
       "      <td>None</td>\n",
       "    </tr>\n",
       "    <tr>\n",
       "      <th>3</th>\n",
       "      <td>15946</td>\n",
       "      <td>7cf6876d-7c50-4d64-b999-e2a039641c81</td>\n",
       "      <td>4</td>\n",
       "      <td>1</td>\n",
       "      <td>0</td>\n",
       "      <td>0</td>\n",
       "      <td>0</td>\n",
       "      <td>0</td>\n",
       "      <td>0</td>\n",
       "      <td>18</td>\n",
       "      <td>...</td>\n",
       "      <td>None</td>\n",
       "      <td>NaN</td>\n",
       "      <td>None</td>\n",
       "      <td>None</td>\n",
       "      <td>None</td>\n",
       "      <td>None</td>\n",
       "      <td>None</td>\n",
       "      <td>None</td>\n",
       "      <td>None</td>\n",
       "      <td>None</td>\n",
       "    </tr>\n",
       "    <tr>\n",
       "      <th>4</th>\n",
       "      <td>15946</td>\n",
       "      <td>34208ade-2af4-45c3-970e-655937cad938</td>\n",
       "      <td>5</td>\n",
       "      <td>1</td>\n",
       "      <td>0</td>\n",
       "      <td>0</td>\n",
       "      <td>98</td>\n",
       "      <td>0</td>\n",
       "      <td>0</td>\n",
       "      <td>30</td>\n",
       "      <td>...</td>\n",
       "      <td>None</td>\n",
       "      <td>NaN</td>\n",
       "      <td>None</td>\n",
       "      <td>None</td>\n",
       "      <td>None</td>\n",
       "      <td>None</td>\n",
       "      <td>None</td>\n",
       "      <td>None</td>\n",
       "      <td>None</td>\n",
       "      <td>None</td>\n",
       "    </tr>\n",
       "  </tbody>\n",
       "</table>\n",
       "<p>5 rows × 95 columns</p>\n",
       "</div>"
      ],
      "text/plain": [
       "   match_id                                    id  index  period  \\\n",
       "0     15946  ce508a95-38d3-4248-a50e-dc8d7e23230c      1       1   \n",
       "1     15946  39abd1c2-2575-41be-ae79-3e936eead529      2       1   \n",
       "2     15946  1148e967-380f-421f-97f0-d0c820c72984      3       1   \n",
       "3     15946  7cf6876d-7c50-4d64-b999-e2a039641c81      4       1   \n",
       "4     15946  34208ade-2af4-45c3-970e-655937cad938      5       1   \n",
       "\n",
       "   timestamp_minute  timestamp_second  timestamp_millisecond  minute  second  \\\n",
       "0                 0                 0                      0       0       0   \n",
       "1                 0                 0                      0       0       0   \n",
       "2                 0                 0                      0       0       0   \n",
       "3                 0                 0                      0       0       0   \n",
       "4                 0                 0                     98       0       0   \n",
       "\n",
       "   type_id  ... block_save_block  out shot_open_goal  \\\n",
       "0       35  ...             None  NaN           None   \n",
       "1       35  ...             None  NaN           None   \n",
       "2       18  ...             None  NaN           None   \n",
       "3       18  ...             None  NaN           None   \n",
       "4       30  ...             None  NaN           None   \n",
       "\n",
       "   injury_stoppage_in_chain shot_follows_dribble  pass_no_touch  \\\n",
       "0                      None                 None           None   \n",
       "1                      None                 None           None   \n",
       "2                      None                 None           None   \n",
       "3                      None                 None           None   \n",
       "4                      None                 None           None   \n",
       "\n",
       "  dribble_no_touch  half_start_late_video_start  player_off_permanent  \\\n",
       "0             None                         None                  None   \n",
       "1             None                         None                  None   \n",
       "2             None                         None                  None   \n",
       "3             None                         None                  None   \n",
       "4             None                         None                  None   \n",
       "\n",
       "  half_end_early_video_end  \n",
       "0                     None  \n",
       "1                     None  \n",
       "2                     None  \n",
       "3                     None  \n",
       "4                     None  \n",
       "\n",
       "[5 rows x 95 columns]"
      ]
     },
     "execution_count": 15,
     "metadata": {},
     "output_type": "execute_result"
    }
   ],
   "source": [
    "event.head()"
   ]
  },
  {
   "cell_type": "code",
   "execution_count": 16,
   "id": "dc59e83e",
   "metadata": {},
   "outputs": [
    {
     "data": {
      "text/plain": [
       "(3198449, 95)"
      ]
     },
     "execution_count": 16,
     "metadata": {},
     "output_type": "execute_result"
    }
   ],
   "source": [
    "event.shape"
   ]
  },
  {
   "cell_type": "code",
   "execution_count": 17,
   "id": "53fb13d4",
   "metadata": {
    "scrolled": false
   },
   "outputs": [
    {
     "data": {
      "text/plain": [
       "Index(['match_id', 'id', 'index', 'period', 'timestamp_minute',\n",
       "       'timestamp_second', 'timestamp_millisecond', 'minute', 'second',\n",
       "       'type_id', 'type_name', 'sub_type_id', 'sub_type_name', 'outcome_id',\n",
       "       'outcome_name', 'play_pattern_id', 'play_pattern_name',\n",
       "       'possession_team_id', 'possession', 'possession_team_name', 'team_id',\n",
       "       'team_name', 'player_id', 'player_name', 'position_id', 'position_name',\n",
       "       'duration', 'x', 'y', 'z', 'end_x', 'end_y', 'end_z', 'body_part_id',\n",
       "       'body_part_name', 'technique_id', 'technique_name', 'counterpress',\n",
       "       'under_pressure', 'pass_length', 'pass_angle', 'pass_recipient_id',\n",
       "       'pass_recipient_name', 'pass_height_id', 'pass_height_name',\n",
       "       'pass_switch', 'pass_assisted_shot_id', 'pass_shot_assist',\n",
       "       'pass_cross', 'pass_backheel', 'pass_deflected', 'pass_cut_back',\n",
       "       'pass_goal_assist', 'bad_behaviour_card_id', 'bad_behaviour_card_name',\n",
       "       'ball_recovery_recovery_failure', 'block_offensive', 'block_deflection',\n",
       "       'dribble_overrun', 'foul_committed_card_id', 'foul_committed_card_name',\n",
       "       'foul_committed_advantage', 'foul_committed_type_id',\n",
       "       'foul_committed_type_name', 'foul_won_defensive', 'foul_won_advantage',\n",
       "       'goalkeeper_position_id', 'goalkeeper_position_name',\n",
       "       'shot_statsbomb_xg', 'shot_key_pass_id', 'shot_first_time',\n",
       "       'shot_one_on_one', 'substitution_replacement_id',\n",
       "       'substitution_replacement_name', 'tactics_formation', 'aerial_won',\n",
       "       'ball_recovery_offensive', 'dribble_nutmeg', 'off_camera',\n",
       "       'foul_committed_penalty', 'foul_won_penalty', 'shot_redirect',\n",
       "       'shot_deflected', 'pass_miscommunication', 'foul_committed_offensive',\n",
       "       'block_save_block', 'out', 'shot_open_goal', 'injury_stoppage_in_chain',\n",
       "       'shot_follows_dribble', 'pass_no_touch', 'dribble_no_touch',\n",
       "       'half_start_late_video_start', 'player_off_permanent',\n",
       "       'half_end_early_video_end'],\n",
       "      dtype='object')"
      ]
     },
     "execution_count": 17,
     "metadata": {},
     "output_type": "execute_result"
    }
   ],
   "source": [
    "event.columns"
   ]
  },
  {
   "cell_type": "code",
   "execution_count": 18,
   "id": "0d24095a",
   "metadata": {},
   "outputs": [
    {
     "data": {
      "text/plain": [
       "Text(0, 0.5, 'Typre Name')"
      ]
     },
     "execution_count": 18,
     "metadata": {},
     "output_type": "execute_result"
    },
    {
     "data": {
      "image/png": "[encoded data removed]",
      "text/plain": [
       "<Figure size 1080x576 with 1 Axes>"
      ]
     },
     "metadata": {
      "needs_background": "light"
     },
     "output_type": "display_data"
    }
   ],
   "source": [
    "#Look at the distribution of matches in each season\n",
    "plt.hist(event.type_name,orientation='horizontal', bins=event.type_name.nunique())\n",
    "plt.gcf().set_size_inches(15, 8)\n",
    "plt.xlabel('# Occurences')\n",
    "plt.ylabel('Typre Name')"
   ]
  },
  {
   "cell_type": "code",
   "execution_count": 19,
   "id": "a1c20709",
   "metadata": {},
   "outputs": [
    {
     "data": {
      "text/plain": [
       "Pass                 0.275926\n",
       "Ball Receipt         0.256283\n",
       "Carry                0.227009\n",
       "Pressure             0.091433\n",
       "Ball Recovery        0.029941\n",
       "Duel                 0.017570\n",
       "Clearance            0.012449\n",
       "Dribble              0.011543\n",
       "Block                0.009893\n",
       "Goal Keeper          0.008396\n",
       "Foul Committed       0.008008\n",
       "Dribbled Past        0.007721\n",
       "Foul Won             0.007600\n",
       "Miscontrol           0.007585\n",
       "Dispossessed         0.007136\n",
       "Shot                 0.007089\n",
       "Interception         0.005320\n",
       "Substitution         0.001537\n",
       "Camera On            0.001198\n",
       "Half Start           0.001133\n",
       "Half End             0.001133\n",
       "Injury Stoppage      0.000855\n",
       "Starting XI          0.000557\n",
       "Tactical Shift       0.000490\n",
       "50/50                0.000434\n",
       "Camera off           0.000322\n",
       "Shield               0.000281\n",
       "Referee Ball-Drop    0.000260\n",
       "Bad Behaviour        0.000197\n",
       "Player Off           0.000187\n",
       "Player On            0.000184\n",
       "Error                0.000164\n",
       "Offside              0.000106\n",
       "Own Goal Against     0.000030\n",
       "Own Goal For         0.000030\n",
       "Name: type_name, dtype: float64"
      ]
     },
     "execution_count": 19,
     "metadata": {},
     "output_type": "execute_result"
    }
   ],
   "source": [
    "# Percentenge Distribution of events\n",
    "event.type_name.value_counts(normalize=True)"
   ]
  },
  {
   "cell_type": "markdown",
   "id": "877a95f5",
   "metadata": {},
   "source": [
    "### Related df"
   ]
  },
  {
   "cell_type": "code",
   "execution_count": 20,
   "id": "2c549e04",
   "metadata": {
    "scrolled": true
   },
   "outputs": [
    {
     "data": {
      "text/html": [
       "<div>\n",
       "<style scoped>\n",
       "    .dataframe tbody tr th:only-of-type {\n",
       "        vertical-align: middle;\n",
       "    }\n",
       "\n",
       "    .dataframe tbody tr th {\n",
       "        vertical-align: top;\n",
       "    }\n",
       "\n",
       "    .dataframe thead th {\n",
       "        text-align: right;\n",
       "    }\n",
       "</style>\n",
       "<table border=\"1\" class=\"dataframe\">\n",
       "  <thead>\n",
       "    <tr style=\"text-align: right;\">\n",
       "      <th></th>\n",
       "      <th>id</th>\n",
       "      <th>id_related</th>\n",
       "      <th>type_name</th>\n",
       "      <th>index</th>\n",
       "      <th>type_name_related</th>\n",
       "      <th>index_related</th>\n",
       "      <th>match_id</th>\n",
       "    </tr>\n",
       "  </thead>\n",
       "  <tbody>\n",
       "    <tr>\n",
       "      <th>0</th>\n",
       "      <td>1148e967-380f-421f-97f0-d0c820c72984</td>\n",
       "      <td>7cf6876d-7c50-4d64-b999-e2a039641c81</td>\n",
       "      <td>Half Start</td>\n",
       "      <td>3</td>\n",
       "      <td>Half Start</td>\n",
       "      <td>4</td>\n",
       "      <td>15946</td>\n",
       "    </tr>\n",
       "    <tr>\n",
       "      <th>1</th>\n",
       "      <td>7cf6876d-7c50-4d64-b999-e2a039641c81</td>\n",
       "      <td>1148e967-380f-421f-97f0-d0c820c72984</td>\n",
       "      <td>Half Start</td>\n",
       "      <td>4</td>\n",
       "      <td>Half Start</td>\n",
       "      <td>3</td>\n",
       "      <td>15946</td>\n",
       "    </tr>\n",
       "    <tr>\n",
       "      <th>2</th>\n",
       "      <td>34208ade-2af4-45c3-970e-655937cad938</td>\n",
       "      <td>61da36dc-d862-416c-8ee3-1a0cd24dc086</td>\n",
       "      <td>Pass</td>\n",
       "      <td>5</td>\n",
       "      <td>Ball Receipt</td>\n",
       "      <td>6</td>\n",
       "      <td>15946</td>\n",
       "    </tr>\n",
       "    <tr>\n",
       "      <th>3</th>\n",
       "      <td>61da36dc-d862-416c-8ee3-1a0cd24dc086</td>\n",
       "      <td>34208ade-2af4-45c3-970e-655937cad938</td>\n",
       "      <td>Ball Receipt</td>\n",
       "      <td>6</td>\n",
       "      <td>Pass</td>\n",
       "      <td>5</td>\n",
       "      <td>15946</td>\n",
       "    </tr>\n",
       "    <tr>\n",
       "      <th>4</th>\n",
       "      <td>8e3dacc2-7a39-4301-9053-e78cfec1aa95</td>\n",
       "      <td>61da36dc-d862-416c-8ee3-1a0cd24dc086</td>\n",
       "      <td>Carry</td>\n",
       "      <td>7</td>\n",
       "      <td>Ball Receipt</td>\n",
       "      <td>6</td>\n",
       "      <td>15946</td>\n",
       "    </tr>\n",
       "  </tbody>\n",
       "</table>\n",
       "</div>"
      ],
      "text/plain": [
       "                                     id                            id_related  \\\n",
       "0  1148e967-380f-421f-97f0-d0c820c72984  7cf6876d-7c50-4d64-b999-e2a039641c81   \n",
       "1  7cf6876d-7c50-4d64-b999-e2a039641c81  1148e967-380f-421f-97f0-d0c820c72984   \n",
       "2  34208ade-2af4-45c3-970e-655937cad938  61da36dc-d862-416c-8ee3-1a0cd24dc086   \n",
       "3  61da36dc-d862-416c-8ee3-1a0cd24dc086  34208ade-2af4-45c3-970e-655937cad938   \n",
       "4  8e3dacc2-7a39-4301-9053-e78cfec1aa95  61da36dc-d862-416c-8ee3-1a0cd24dc086   \n",
       "\n",
       "      type_name  index type_name_related  index_related  match_id  \n",
       "0    Half Start      3        Half Start              4     15946  \n",
       "1    Half Start      4        Half Start              3     15946  \n",
       "2          Pass      5      Ball Receipt              6     15946  \n",
       "3  Ball Receipt      6              Pass              5     15946  \n",
       "4         Carry      7      Ball Receipt              6     15946  "
      ]
     },
     "execution_count": 20,
     "metadata": {},
     "output_type": "execute_result"
    }
   ],
   "source": [
    "related.head()"
   ]
  },
  {
   "cell_type": "code",
   "execution_count": 21,
   "id": "885b4ddd",
   "metadata": {},
   "outputs": [
    {
     "data": {
      "text/plain": [
       "(6219794, 7)"
      ]
     },
     "execution_count": 21,
     "metadata": {},
     "output_type": "execute_result"
    }
   ],
   "source": [
    "related.shape"
   ]
  },
  {
   "cell_type": "markdown",
   "id": "74d69f1b",
   "metadata": {},
   "source": [
    "### Freeze df"
   ]
  },
  {
   "cell_type": "code",
   "execution_count": 22,
   "id": "2c3fb65b",
   "metadata": {},
   "outputs": [
    {
     "data": {
      "text/html": [
       "<div>\n",
       "<style scoped>\n",
       "    .dataframe tbody tr th:only-of-type {\n",
       "        vertical-align: middle;\n",
       "    }\n",
       "\n",
       "    .dataframe tbody tr th {\n",
       "        vertical-align: top;\n",
       "    }\n",
       "\n",
       "    .dataframe thead th {\n",
       "        text-align: right;\n",
       "    }\n",
       "</style>\n",
       "<table border=\"1\" class=\"dataframe\">\n",
       "  <thead>\n",
       "    <tr style=\"text-align: right;\">\n",
       "      <th></th>\n",
       "      <th>id</th>\n",
       "      <th>event_freeze_id</th>\n",
       "      <th>player_teammate</th>\n",
       "      <th>player_id</th>\n",
       "      <th>player_name</th>\n",
       "      <th>player_position_id</th>\n",
       "      <th>player_position_name</th>\n",
       "      <th>x</th>\n",
       "      <th>y</th>\n",
       "      <th>match_id</th>\n",
       "    </tr>\n",
       "  </thead>\n",
       "  <tbody>\n",
       "    <tr>\n",
       "      <th>0</th>\n",
       "      <td>65f16e50-7c5d-4293-b2fc-d20887a772f9</td>\n",
       "      <td>1</td>\n",
       "      <td>True</td>\n",
       "      <td>6379</td>\n",
       "      <td>Sergi Roberto Carnicer</td>\n",
       "      <td>12</td>\n",
       "      <td>Right Midfield</td>\n",
       "      <td>96.4</td>\n",
       "      <td>53.9</td>\n",
       "      <td>15946</td>\n",
       "    </tr>\n",
       "    <tr>\n",
       "      <th>1</th>\n",
       "      <td>b0f73423-3990-45ae-9dda-3512c2d1aff3</td>\n",
       "      <td>1</td>\n",
       "      <td>False</td>\n",
       "      <td>6612</td>\n",
       "      <td>Rubén Duarte Sánchez</td>\n",
       "      <td>6</td>\n",
       "      <td>Left Back</td>\n",
       "      <td>106.0</td>\n",
       "      <td>54.5</td>\n",
       "      <td>15946</td>\n",
       "    </tr>\n",
       "    <tr>\n",
       "      <th>2</th>\n",
       "      <td>13b1ddab-d22e-43d9-bfe4-12632fea1a27</td>\n",
       "      <td>1</td>\n",
       "      <td>True</td>\n",
       "      <td>5477</td>\n",
       "      <td>Ousmane Dembélé</td>\n",
       "      <td>16</td>\n",
       "      <td>Left Midfield</td>\n",
       "      <td>100.3</td>\n",
       "      <td>37.2</td>\n",
       "      <td>15946</td>\n",
       "    </tr>\n",
       "    <tr>\n",
       "      <th>3</th>\n",
       "      <td>391bfb74-07a6-4afe-9568-02a9b23f5bd4</td>\n",
       "      <td>1</td>\n",
       "      <td>False</td>\n",
       "      <td>5211</td>\n",
       "      <td>Jordi Alba Ramos</td>\n",
       "      <td>6</td>\n",
       "      <td>Left Back</td>\n",
       "      <td>110.0</td>\n",
       "      <td>39.8</td>\n",
       "      <td>15946</td>\n",
       "    </tr>\n",
       "    <tr>\n",
       "      <th>4</th>\n",
       "      <td>5e55f5a5-954f-4cc4-ba6e-a9cf6d6e249e</td>\n",
       "      <td>1</td>\n",
       "      <td>False</td>\n",
       "      <td>6626</td>\n",
       "      <td>Mubarak Wakaso</td>\n",
       "      <td>13</td>\n",
       "      <td>Right Center Midfield</td>\n",
       "      <td>105.3</td>\n",
       "      <td>52.3</td>\n",
       "      <td>15946</td>\n",
       "    </tr>\n",
       "  </tbody>\n",
       "</table>\n",
       "</div>"
      ],
      "text/plain": [
       "                                     id  event_freeze_id  player_teammate  \\\n",
       "0  65f16e50-7c5d-4293-b2fc-d20887a772f9                1             True   \n",
       "1  b0f73423-3990-45ae-9dda-3512c2d1aff3                1            False   \n",
       "2  13b1ddab-d22e-43d9-bfe4-12632fea1a27                1             True   \n",
       "3  391bfb74-07a6-4afe-9568-02a9b23f5bd4                1            False   \n",
       "4  5e55f5a5-954f-4cc4-ba6e-a9cf6d6e249e                1            False   \n",
       "\n",
       "   player_id             player_name  player_position_id  \\\n",
       "0       6379  Sergi Roberto Carnicer                  12   \n",
       "1       6612    Rubén Duarte Sánchez                   6   \n",
       "2       5477         Ousmane Dembélé                  16   \n",
       "3       5211        Jordi Alba Ramos                   6   \n",
       "4       6626          Mubarak Wakaso                  13   \n",
       "\n",
       "    player_position_name      x     y  match_id  \n",
       "0         Right Midfield   96.4  53.9     15946  \n",
       "1              Left Back  106.0  54.5     15946  \n",
       "2          Left Midfield  100.3  37.2     15946  \n",
       "3              Left Back  110.0  39.8     15946  \n",
       "4  Right Center Midfield  105.3  52.3     15946  "
      ]
     },
     "execution_count": 22,
     "metadata": {},
     "output_type": "execute_result"
    }
   ],
   "source": [
    "freeze.head()"
   ]
  },
  {
   "cell_type": "code",
   "execution_count": 23,
   "id": "95dcd865",
   "metadata": {},
   "outputs": [
    {
     "data": {
      "text/plain": [
       "(277829, 10)"
      ]
     },
     "execution_count": 23,
     "metadata": {},
     "output_type": "execute_result"
    }
   ],
   "source": [
    "freeze.shape"
   ]
  },
  {
   "cell_type": "markdown",
   "id": "23b27df6",
   "metadata": {},
   "source": [
    "### Tactic df"
   ]
  },
  {
   "cell_type": "code",
   "execution_count": 24,
   "id": "4d00ac15",
   "metadata": {},
   "outputs": [
    {
     "data": {
      "text/html": [
       "<div>\n",
       "<style scoped>\n",
       "    .dataframe tbody tr th:only-of-type {\n",
       "        vertical-align: middle;\n",
       "    }\n",
       "\n",
       "    .dataframe tbody tr th {\n",
       "        vertical-align: top;\n",
       "    }\n",
       "\n",
       "    .dataframe thead th {\n",
       "        text-align: right;\n",
       "    }\n",
       "</style>\n",
       "<table border=\"1\" class=\"dataframe\">\n",
       "  <thead>\n",
       "    <tr style=\"text-align: right;\">\n",
       "      <th></th>\n",
       "      <th>id</th>\n",
       "      <th>event_tactics_id</th>\n",
       "      <th>player_jersey_number</th>\n",
       "      <th>player_id</th>\n",
       "      <th>player_name</th>\n",
       "      <th>player_position_id</th>\n",
       "      <th>player_position_name</th>\n",
       "      <th>match_id</th>\n",
       "    </tr>\n",
       "  </thead>\n",
       "  <tbody>\n",
       "    <tr>\n",
       "      <th>0</th>\n",
       "      <td>ce508a95-38d3-4248-a50e-dc8d7e23230c</td>\n",
       "      <td>1</td>\n",
       "      <td>1</td>\n",
       "      <td>20055</td>\n",
       "      <td>Marc-André ter Stegen</td>\n",
       "      <td>1</td>\n",
       "      <td>Goalkeeper</td>\n",
       "      <td>15946</td>\n",
       "    </tr>\n",
       "    <tr>\n",
       "      <th>1</th>\n",
       "      <td>39abd1c2-2575-41be-ae79-3e936eead529</td>\n",
       "      <td>1</td>\n",
       "      <td>1</td>\n",
       "      <td>6629</td>\n",
       "      <td>Fernando Pacheco Flores</td>\n",
       "      <td>1</td>\n",
       "      <td>Goalkeeper</td>\n",
       "      <td>15946</td>\n",
       "    </tr>\n",
       "    <tr>\n",
       "      <th>2</th>\n",
       "      <td>544aa147-a96a-476f-b709-7f72587366a4</td>\n",
       "      <td>1</td>\n",
       "      <td>1</td>\n",
       "      <td>20055</td>\n",
       "      <td>Marc-André ter Stegen</td>\n",
       "      <td>1</td>\n",
       "      <td>Goalkeeper</td>\n",
       "      <td>15946</td>\n",
       "    </tr>\n",
       "    <tr>\n",
       "      <th>3</th>\n",
       "      <td>0cf7c15e-cc7a-445f-8d0d-11f85ba6d963</td>\n",
       "      <td>1</td>\n",
       "      <td>1</td>\n",
       "      <td>6629</td>\n",
       "      <td>Fernando Pacheco Flores</td>\n",
       "      <td>1</td>\n",
       "      <td>Goalkeeper</td>\n",
       "      <td>15946</td>\n",
       "    </tr>\n",
       "    <tr>\n",
       "      <th>4</th>\n",
       "      <td>8b966a0c-8262-4f62-a638-ac0e943e4f4e</td>\n",
       "      <td>1</td>\n",
       "      <td>1</td>\n",
       "      <td>20055</td>\n",
       "      <td>Marc-André ter Stegen</td>\n",
       "      <td>1</td>\n",
       "      <td>Goalkeeper</td>\n",
       "      <td>15946</td>\n",
       "    </tr>\n",
       "  </tbody>\n",
       "</table>\n",
       "</div>"
      ],
      "text/plain": [
       "                                     id  event_tactics_id  \\\n",
       "0  ce508a95-38d3-4248-a50e-dc8d7e23230c                 1   \n",
       "1  39abd1c2-2575-41be-ae79-3e936eead529                 1   \n",
       "2  544aa147-a96a-476f-b709-7f72587366a4                 1   \n",
       "3  0cf7c15e-cc7a-445f-8d0d-11f85ba6d963                 1   \n",
       "4  8b966a0c-8262-4f62-a638-ac0e943e4f4e                 1   \n",
       "\n",
       "   player_jersey_number  player_id              player_name  \\\n",
       "0                     1      20055    Marc-André ter Stegen   \n",
       "1                     1       6629  Fernando Pacheco Flores   \n",
       "2                     1      20055    Marc-André ter Stegen   \n",
       "3                     1       6629  Fernando Pacheco Flores   \n",
       "4                     1      20055    Marc-André ter Stegen   \n",
       "\n",
       "   player_position_id player_position_name  match_id  \n",
       "0                   1           Goalkeeper     15946  \n",
       "1                   1           Goalkeeper     15946  \n",
       "2                   1           Goalkeeper     15946  \n",
       "3                   1           Goalkeeper     15946  \n",
       "4                   1           Goalkeeper     15946  "
      ]
     },
     "execution_count": 24,
     "metadata": {},
     "output_type": "execute_result"
    }
   ],
   "source": [
    "tactic.head()"
   ]
  },
  {
   "cell_type": "code",
   "execution_count": 25,
   "id": "8406affa",
   "metadata": {},
   "outputs": [
    {
     "data": {
      "text/plain": [
       "(36817, 8)"
      ]
     },
     "execution_count": 25,
     "metadata": {},
     "output_type": "execute_result"
    }
   ],
   "source": [
    "tactic.shape"
   ]
  }
 ],
 "metadata": {
  "kernelspec": {
   "display_name": "Python 3 (ipykernel)",
   "language": "python",
   "name": "python3"
  },
  "language_info": {
   "codemirror_mode": {
    "name": "ipython",
    "version": 3
   },
   "file_extension": ".py",
   "mimetype": "text/x-python",
   "name": "python",
   "nbconvert_exporter": "python",
   "pygments_lexer": "ipython3",
   "version": "3.9.7"
  }
 },
 "nbformat": 4,
 "nbformat_minor": 5
}
